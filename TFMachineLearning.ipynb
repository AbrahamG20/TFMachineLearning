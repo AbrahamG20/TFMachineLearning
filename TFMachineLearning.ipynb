{
  "nbformat": 4,
  "nbformat_minor": 0,
  "metadata": {
    "colab": {
      "name": "TFMachineLearning.ipynb",
      "provenance": [],
      "collapsed_sections": [
        "VyP2voxKvz4r",
        "DUJz9Qy5vz4s",
        "QqmcgP9Cvz4s",
        "A4eCb6CZvz4s",
        "7QZMM4tGvz4t",
        "LCNSTjPpvz4t"
      ]
    },
    "kernelspec": {
      "name": "python3",
      "display_name": "Python 3"
    }
  },
  "cells": [
    {
      "cell_type": "markdown",
      "metadata": {
        "id": "cn6wZMevvz4p"
      },
      "source": [
        "# Cargar Dataset\n",
        "## 1.Inicializando Librerías\n",
        "Para realizar nuestro trabajo utilizaremos las siguientes librerías: Usaremos Numpy para poder utilizar su estructura de arreglos; con Matplotlib graficaremos la información de forma más sencilla. Por último, utilizaremos pandas para poder leer el dataset propuesto por el trabajo y para almacenarlo en su estructura de dataframes."
      ]
    },
    {
      "cell_type": "code",
      "metadata": {
        "id": "uV0SxwJpvz4p"
      },
      "source": [
        "import numpy as np\n",
        "import matplotlib.pylab as plt\n",
        "import pandas as pd\n",
        "from sklearn.utils import shuffle\n",
        "from sklearn.metrics import accuracy_score"
      ],
      "execution_count": 89,
      "outputs": []
    },
    {
      "cell_type": "markdown",
      "metadata": {
        "id": "dVGM1SGqvz4p"
      },
      "source": [
        "## 2.Lectura del Dataset\n",
        "El trabajo propuesto por el curso de machine learning nos plantea entrenar un modelo que pueda clasificar correctamente si un correo electrónico es de categoria spam o lo contrario. Para ello se nos entregó un dataset clasico de SPAM OR NOT SPAM, que contiene 2500 'ham' (es decir, no spam) y 500 correos electrónicos no deseados en el conjunto de datos. También puede notar que todos los números y URL se convirtieron en cadenas como NUMBER y URL respectivamente. Este es el conjunto de datos simplificado de spam y ham. Este dataset contiene las siguientes variables:\n"
      ]
    },
    {
      "cell_type": "code",
      "metadata": {
        "id": "wu7Q6AcUvz4p"
      },
      "source": [
        "df = pd.read_csv('dataset.csv', encoding = \"ISO-8859-1\")"
      ],
      "execution_count": 90,
      "outputs": []
    },
    {
      "cell_type": "markdown",
      "metadata": {
        "id": "GFhLrr0Tvz4p"
      },
      "source": [
        "Una vez hayamos cargado el dataset, procedemos a visualizar los datos."
      ]
    },
    {
      "cell_type": "markdown",
      "metadata": {
        "id": "sb1etoN0vz4p"
      },
      "source": [
        "## 3. Análisis Exploratorio y Tratamiento de Datos"
      ]
    },
    {
      "cell_type": "markdown",
      "metadata": {
        "id": "lMa5o3f0vz4p"
      },
      "source": [
        "### 3.1- Visualizacion Corta del Dataframe\n",
        "Lo primero que se decidió hacer fue ver el estado del dataframe, por lo que usamos la función head() de pandas. Se puede visualizar todas las columnas, y las primeras 5 filas.\n"
      ]
    },
    {
      "cell_type": "code",
      "metadata": {
        "colab": {
          "base_uri": "https://localhost:8080/",
          "height": 204
        },
        "id": "aeOC02uUvz4p",
        "outputId": "db89e6bd-fb37-41f9-9040-e4ca548c8921"
      },
      "source": [
        "df.head(5)"
      ],
      "execution_count": 91,
      "outputs": [
        {
          "output_type": "execute_result",
          "data": {
            "text/html": [
              "<div>\n",
              "<style scoped>\n",
              "    .dataframe tbody tr th:only-of-type {\n",
              "        vertical-align: middle;\n",
              "    }\n",
              "\n",
              "    .dataframe tbody tr th {\n",
              "        vertical-align: top;\n",
              "    }\n",
              "\n",
              "    .dataframe thead th {\n",
              "        text-align: right;\n",
              "    }\n",
              "</style>\n",
              "<table border=\"1\" class=\"dataframe\">\n",
              "  <thead>\n",
              "    <tr style=\"text-align: right;\">\n",
              "      <th></th>\n",
              "      <th>email</th>\n",
              "      <th>label</th>\n",
              "    </tr>\n",
              "  </thead>\n",
              "  <tbody>\n",
              "    <tr>\n",
              "      <th>0</th>\n",
              "      <td>date wed NUMBER aug NUMBER NUMBER NUMBER NUMB...</td>\n",
              "      <td>0</td>\n",
              "    </tr>\n",
              "    <tr>\n",
              "      <th>1</th>\n",
              "      <td>martin a posted tassos papadopoulos the greek ...</td>\n",
              "      <td>0</td>\n",
              "    </tr>\n",
              "    <tr>\n",
              "      <th>2</th>\n",
              "      <td>man threatens explosion in moscow thursday aug...</td>\n",
              "      <td>0</td>\n",
              "    </tr>\n",
              "    <tr>\n",
              "      <th>3</th>\n",
              "      <td>klez the virus that won t die already the most...</td>\n",
              "      <td>0</td>\n",
              "    </tr>\n",
              "    <tr>\n",
              "      <th>4</th>\n",
              "      <td>in adding cream to spaghetti carbonara which ...</td>\n",
              "      <td>0</td>\n",
              "    </tr>\n",
              "  </tbody>\n",
              "</table>\n",
              "</div>"
            ],
            "text/plain": [
              "                                               email  label\n",
              "0   date wed NUMBER aug NUMBER NUMBER NUMBER NUMB...      0\n",
              "1  martin a posted tassos papadopoulos the greek ...      0\n",
              "2  man threatens explosion in moscow thursday aug...      0\n",
              "3  klez the virus that won t die already the most...      0\n",
              "4   in adding cream to spaghetti carbonara which ...      0"
            ]
          },
          "metadata": {
            "tags": []
          },
          "execution_count": 91
        }
      ]
    },
    {
      "cell_type": "markdown",
      "metadata": {
        "id": "ok9vomJTvz4q"
      },
      "source": [
        "### 3.2- Magnitud del Dataset\n",
        "Luego, para tener una idea de la magnitud del dataset con el que se está trabajando, usamos la función shape() de Pandas para que nos retorne el número de filas y columnas de dicho dataset. El primer axis son el numero de filas y la segunda de las columnas. Tambien mostraremos como estan estructurados nuestros datos. Es decir la distribución de los valores del dominio de nuestro dataset; 0 para no SPAM y 1 para SPAM."
      ]
    },
    {
      "cell_type": "code",
      "metadata": {
        "colab": {
          "base_uri": "https://localhost:8080/"
        },
        "id": "ZmlmXbGxvz4q",
        "outputId": "471bd54f-d475-4bae-b4cc-59aa55cc9360"
      },
      "source": [
        "df.shape"
      ],
      "execution_count": 92,
      "outputs": [
        {
          "output_type": "execute_result",
          "data": {
            "text/plain": [
              "(3000, 2)"
            ]
          },
          "metadata": {
            "tags": []
          },
          "execution_count": 92
        }
      ]
    },
    {
      "cell_type": "code",
      "metadata": {
        "colab": {
          "base_uri": "https://localhost:8080/"
        },
        "id": "Tuku6X83vz4q",
        "outputId": "b9ffbb66-7556-430e-a80f-6f6e982199f5"
      },
      "source": [
        "df['label'].value_counts()"
      ],
      "execution_count": 93,
      "outputs": [
        {
          "output_type": "execute_result",
          "data": {
            "text/plain": [
              "0    2500\n",
              "1     500\n",
              "Name: label, dtype: int64"
            ]
          },
          "metadata": {
            "tags": []
          },
          "execution_count": 93
        }
      ]
    },
    {
      "cell_type": "code",
      "metadata": {
        "colab": {
          "base_uri": "https://localhost:8080/",
          "height": 281
        },
        "id": "W26qTpkIvz4r",
        "outputId": "5509cb21-62c2-4742-d0d3-f4d8c8e11546"
      },
      "source": [
        "df.hist();"
      ],
      "execution_count": 94,
      "outputs": [
        {
          "output_type": "display_data",
          "data": {
            "image/png": "[encoded data removed]",
            "text/plain": [
              "<Figure size 432x288 with 1 Axes>"
            ]
          },
          "metadata": {
            "tags": [],
            "needs_background": "light"
          }
        }
      ]
    },
    {
      "cell_type": "markdown",
      "metadata": {
        "id": "t4xa8T2Bvz4r"
      },
      "source": [
        "### 3.3 - Valores Nulos\n",
        "Es un paso crucial ver si existen valores nulos en el dataset que se va a usar,por lo tanto, usando la función isna(), mas sumando todo con sum(), podemos sumar la cantidad de valores nulos por cada columnas de DF. En este caso, podemos ver que la de los correos tiene 1 valor unico."
      ]
    },
    {
      "cell_type": "code",
      "metadata": {
        "colab": {
          "base_uri": "https://localhost:8080/"
        },
        "id": "ndfZ2hyXvz4r",
        "outputId": "f09bd3f0-135c-4f74-d42d-3dcb1ad3c597"
      },
      "source": [
        "df.isna().sum() #Detección de valores nulos"
      ],
      "execution_count": 95,
      "outputs": [
        {
          "output_type": "execute_result",
          "data": {
            "text/plain": [
              "email    1\n",
              "label    0\n",
              "dtype: int64"
            ]
          },
          "metadata": {
            "tags": []
          },
          "execution_count": 95
        }
      ]
    },
    {
      "cell_type": "markdown",
      "metadata": {
        "id": "VyP2voxKvz4r"
      },
      "source": [
        "### 3.4 Tipos de Atributos\n",
        "Es muy importante, antes de empezar a trabajar con la data de un dataset, saber qué tipos de atributos contiene. Para esto, se hizo uso de la función dtypes() de pandas, que , por cada columna, me retorna su tipo de dato."
      ]
    },
    {
      "cell_type": "code",
      "metadata": {
        "colab": {
          "base_uri": "https://localhost:8080/"
        },
        "id": "32TK1Kvcvz4r",
        "outputId": "92e86b68-9d23-45f6-8d02-92bba1f01263"
      },
      "source": [
        "df.dtypes"
      ],
      "execution_count": 96,
      "outputs": [
        {
          "output_type": "execute_result",
          "data": {
            "text/plain": [
              "email    object\n",
              "label     int64\n",
              "dtype: object"
            ]
          },
          "metadata": {
            "tags": []
          },
          "execution_count": 96
        }
      ]
    },
    {
      "cell_type": "markdown",
      "metadata": {
        "id": "i81Tjtj0vz4s"
      },
      "source": [
        "\n",
        "Podemos ver que la columna importante de 'email' esta en tipo Object, lo que nos dice que el dataset no está listo para poder entrenarlo. Esto se arreglara posteriormente.\n",
        "\n",
        "Para poder ver las estadísticas de las columnas numéricas, se hizo uso de la función describe() de pandas una vez más. Como podemos ver, solo toma en cuenta las columnas que están en tipos numéricos, es decir int o float. En este caso es solo los labels (clases)."
      ]
    },
    {
      "cell_type": "code",
      "metadata": {
        "colab": {
          "base_uri": "https://localhost:8080/",
          "height": 297
        },
        "id": "3n7kulZGvz4s",
        "outputId": "e6b900c8-2e4d-439e-8be6-05ebb0a01a4f"
      },
      "source": [
        "df.describe()"
      ],
      "execution_count": 97,
      "outputs": [
        {
          "output_type": "execute_result",
          "data": {
            "text/html": [
              "<div>\n",
              "<style scoped>\n",
              "    .dataframe tbody tr th:only-of-type {\n",
              "        vertical-align: middle;\n",
              "    }\n",
              "\n",
              "    .dataframe tbody tr th {\n",
              "        vertical-align: top;\n",
              "    }\n",
              "\n",
              "    .dataframe thead th {\n",
              "        text-align: right;\n",
              "    }\n",
              "</style>\n",
              "<table border=\"1\" class=\"dataframe\">\n",
              "  <thead>\n",
              "    <tr style=\"text-align: right;\">\n",
              "      <th></th>\n",
              "      <th>label</th>\n",
              "    </tr>\n",
              "  </thead>\n",
              "  <tbody>\n",
              "    <tr>\n",
              "      <th>count</th>\n",
              "      <td>3000.000000</td>\n",
              "    </tr>\n",
              "    <tr>\n",
              "      <th>mean</th>\n",
              "      <td>0.166667</td>\n",
              "    </tr>\n",
              "    <tr>\n",
              "      <th>std</th>\n",
              "      <td>0.372740</td>\n",
              "    </tr>\n",
              "    <tr>\n",
              "      <th>min</th>\n",
              "      <td>0.000000</td>\n",
              "    </tr>\n",
              "    <tr>\n",
              "      <th>25%</th>\n",
              "      <td>0.000000</td>\n",
              "    </tr>\n",
              "    <tr>\n",
              "      <th>50%</th>\n",
              "      <td>0.000000</td>\n",
              "    </tr>\n",
              "    <tr>\n",
              "      <th>75%</th>\n",
              "      <td>0.000000</td>\n",
              "    </tr>\n",
              "    <tr>\n",
              "      <th>max</th>\n",
              "      <td>1.000000</td>\n",
              "    </tr>\n",
              "  </tbody>\n",
              "</table>\n",
              "</div>"
            ],
            "text/plain": [
              "             label\n",
              "count  3000.000000\n",
              "mean      0.166667\n",
              "std       0.372740\n",
              "min       0.000000\n",
              "25%       0.000000\n",
              "50%       0.000000\n",
              "75%       0.000000\n",
              "max       1.000000"
            ]
          },
          "metadata": {
            "tags": []
          },
          "execution_count": 97
        }
      ]
    },
    {
      "cell_type": "markdown",
      "metadata": {
        "id": "DUJz9Qy5vz4s"
      },
      "source": [
        "### 3.5 Distribución Aleatoria de los datos\n",
        "Usando la función Shuffle de Sklearn distribuiremos los datos para que los datos no esten ordenados y podemos partirlos posteriormente."
      ]
    },
    {
      "cell_type": "code",
      "metadata": {
        "id": "dh-5nCFsvz4s"
      },
      "source": [
        "df = shuffle(df)"
      ],
      "execution_count": 98,
      "outputs": []
    },
    {
      "cell_type": "markdown",
      "metadata": {
        "id": "sZe6P_H0vz4s"
      },
      "source": [
        "## 4 - Tratamiento de Datos\n"
      ]
    },
    {
      "cell_type": "markdown",
      "metadata": {
        "id": "QqmcgP9Cvz4s"
      },
      "source": [
        "### 4.1 - Descartando Valores Faltantes\n",
        "Como se analizó previamente, en la sección de exploración de datos, había un registro con valor nulo en la columna de 'email'. Para solucionar esto, como nos dimos cuenta que habían suficientes registros en el dataset, y que solo era un registro, decidimos descartar esa filas que contenía dicho valor nulo. Entonces, lo que decidimos hacer fue usar la funcion dropna() de libreria Pandas, que fue cargada previamente."
      ]
    },
    {
      "cell_type": "code",
      "metadata": {
        "id": "i_nUNGMDvz4s"
      },
      "source": [
        "df = df.dropna()"
      ],
      "execution_count": 99,
      "outputs": []
    },
    {
      "cell_type": "markdown",
      "metadata": {
        "id": "LUZ4FDq6vz4s"
      },
      "source": [
        "Hacemos una simple verificacion que efectivamente se borro el registro nulo y podemos ver que efectivamente lo hizo."
      ]
    },
    {
      "cell_type": "code",
      "metadata": {
        "colab": {
          "base_uri": "https://localhost:8080/"
        },
        "id": "LwgCLKYivz4s",
        "outputId": "55b9f1e6-a8d3-4c7e-c520-8ca206a08e79"
      },
      "source": [
        "df.isna().sum()"
      ],
      "execution_count": 100,
      "outputs": [
        {
          "output_type": "execute_result",
          "data": {
            "text/plain": [
              "email    0\n",
              "label    0\n",
              "dtype: int64"
            ]
          },
          "metadata": {
            "tags": []
          },
          "execution_count": 100
        }
      ]
    },
    {
      "cell_type": "markdown",
      "metadata": {
        "id": "A4eCb6CZvz4s"
      },
      "source": [
        "### 4.2 - Bag of Words \n",
        "Descripcion aqui y mas floro"
      ]
    },
    {
      "cell_type": "code",
      "metadata": {
        "id": "Wur-xX6Wvz4s"
      },
      "source": [
        "X = df['email']\n",
        "y = df['label']\n"
      ],
      "execution_count": 101,
      "outputs": []
    },
    {
      "cell_type": "code",
      "metadata": {
        "id": "OZUvRCRiLXnH"
      },
      "source": [
        "X = X.str.lower()\n",
        "X = X.str.replace(r'\\r', ' ')\n",
        "X = X.str.replace(r'\\n', ' ')\n",
        "X = X.str.replace('[^a-zA-Z0-9]', ' ')\n"
      ],
      "execution_count": 102,
      "outputs": []
    },
    {
      "cell_type": "code",
      "metadata": {
        "colab": {
          "base_uri": "https://localhost:8080/"
        },
        "id": "at6ZrdAKLXnH",
        "outputId": "55c24783-757e-4af2-830d-fbfd59fda0f7"
      },
      "source": [
        "X"
      ],
      "execution_count": 103,
      "outputs": [
        {
          "output_type": "execute_result",
          "data": {
            "text/plain": [
              "1221    once upon a time brian wrote yeah but i try to...\n",
              "2265    url url date not supplied drugs designed to pr...\n",
              "904     it was a kick when an apt manager kept mailing...\n",
              "177      url tuesday number august number number numbe...\n",
              "734      how about this a bored forker said yawn i bel...\n",
              "                              ...                        \n",
              "1634    on number september number tim peters said gre...\n",
              "2303    url url date not supplied img url jon lebkowsk...\n",
              "1820    use perl daily headline mailer passing the par...\n",
              "1579    it s a permissions issue on the razor log file...\n",
              "398     thanks for this information i gave alsa a try ...\n",
              "Name: email, Length: 2999, dtype: object"
            ]
          },
          "metadata": {
            "tags": []
          },
          "execution_count": 103
        }
      ]
    },
    {
      "cell_type": "code",
      "metadata": {
        "colab": {
          "base_uri": "https://localhost:8080/"
        },
        "id": "Eb5u295TNcaq",
        "outputId": "58612fee-75ce-4162-edc4-f47ff8442519"
      },
      "source": [
        "from sklearn.model_selection import train_test_split\n",
        "x_train, x_test, y_train, y_test = train_test_split(X, y, test_size = 0.2, random_state=0, shuffle = True)\n",
        "x_train.head()"
      ],
      "execution_count": 107,
      "outputs": [
        {
          "output_type": "execute_result",
          "data": {
            "text/plain": [
              "1143     begin pgp signed message hash shanumber conte...\n",
              "2711     hyperlink copyright number all rights reserve...\n",
              "306     does anyone here know if the computational rec...\n",
              "964      robert elz said date wed number aug number nu...\n",
              "525     bitbitch writes listen if you pull numbers lik...\n",
              "Name: email, dtype: object"
            ]
          },
          "metadata": {
            "tags": []
          },
          "execution_count": 107
        }
      ]
    },
    {
      "cell_type": "code",
      "metadata": {
        "id": "S3tHk-hBLXnH"
      },
      "source": [
        "from sklearn.feature_extraction.text import TfidfVectorizer\n",
        "vec = TfidfVectorizer()\n",
        "xtrain = vec.fit_transform(x_train)"
      ],
      "execution_count": 108,
      "outputs": []
    },
    {
      "cell_type": "code",
      "metadata": {
        "colab": {
          "base_uri": "https://localhost:8080/"
        },
        "id": "Bnm-Bya8LXnH",
        "outputId": "008e66b8-267a-4d63-add8-15b4d8453379"
      },
      "source": [
        "from sklearn.pipeline import Pipeline\n",
        "from sklearn.ensemble import RandomForestClassifier\n",
        "clf = Pipeline([('tfidf', TfidfVectorizer()),('clf', RandomForestClassifier(n_estimators=100, n_jobs=-1))])\n",
        "clf.fit(x_train, y_train)"
      ],
      "execution_count": 110,
      "outputs": [
        {
          "output_type": "execute_result",
          "data": {
            "text/plain": [
              "Pipeline(memory=None,\n",
              "         steps=[('tfidf',\n",
              "                 TfidfVectorizer(analyzer='word', binary=False,\n",
              "                                 decode_error='strict',\n",
              "                                 dtype=<class 'numpy.float64'>,\n",
              "                                 encoding='utf-8', input='content',\n",
              "                                 lowercase=True, max_df=1.0, max_features=None,\n",
              "                                 min_df=1, ngram_range=(1, 1), norm='l2',\n",
              "                                 preprocessor=None, smooth_idf=True,\n",
              "                                 stop_words=None, strip_accents=None,\n",
              "                                 sublinear_tf=False,\n",
              "                                 token_pattern='...\n",
              "                 RandomForestClassifier(bootstrap=True, ccp_alpha=0.0,\n",
              "                                        class_weight=None, criterion='gini',\n",
              "                                        max_depth=None, max_features='auto',\n",
              "                                        max_leaf_nodes=None, max_samples=None,\n",
              "                                        min_impurity_decrease=0.0,\n",
              "                                        min_impurity_split=None,\n",
              "                                        min_samples_leaf=1, min_samples_split=2,\n",
              "                                        min_weight_fraction_leaf=0.0,\n",
              "                                        n_estimators=100, n_jobs=-1,\n",
              "                                        oob_score=False, random_state=None,\n",
              "                                        verbose=0, warm_start=False))],\n",
              "         verbose=False)"
            ]
          },
          "metadata": {
            "tags": []
          },
          "execution_count": 110
        }
      ]
    },
    {
      "cell_type": "code",
      "metadata": {
        "id": "d9hwNXJ_LXnH"
      },
      "source": [
        "ypred = clf.predict(x_test)"
      ],
      "execution_count": 111,
      "outputs": []
    },
    {
      "cell_type": "code",
      "metadata": {
        "colab": {
          "base_uri": "https://localhost:8080/"
        },
        "id": "5dW7DMKgLXnH",
        "outputId": "19e772d8-54ae-4da6-86ba-1229c6cb0d5b"
      },
      "source": [
        "from sklearn.metrics import confusion_matrix,accuracy_score,classification_report\n",
        "confusion_matrix(y_test, ypred)"
      ],
      "execution_count": 112,
      "outputs": [
        {
          "output_type": "execute_result",
          "data": {
            "text/plain": [
              "array([[498,   0],\n",
              "       [ 18,  84]])"
            ]
          },
          "metadata": {
            "tags": []
          },
          "execution_count": 112
        }
      ]
    },
    {
      "cell_type": "code",
      "metadata": {
        "colab": {
          "base_uri": "https://localhost:8080/"
        },
        "id": "YcPCKm6PLXnH",
        "outputId": "dca0c0b5-b679-4341-f91e-0f598fccf33d"
      },
      "source": [
        "accuracy_score(y_test, ypred)"
      ],
      "execution_count": 113,
      "outputs": [
        {
          "output_type": "execute_result",
          "data": {
            "text/plain": [
              "0.97"
            ]
          },
          "metadata": {
            "tags": []
          },
          "execution_count": 113
        }
      ]
    },
    {
      "cell_type": "code",
      "metadata": {
        "colab": {
          "base_uri": "https://localhost:8080/"
        },
        "id": "Zvf_VjEFLXnH",
        "outputId": "35a01383-e7d3-4f16-d87e-0be19cd5cad7"
      },
      "source": [
        "clf.predict(['dear ricardoNUMBER cost effective direct email advertising promote your business for as low as NUMBE'])"
      ],
      "execution_count": 119,
      "outputs": [
        {
          "output_type": "execute_result",
          "data": {
            "text/plain": [
              "array([1])"
            ]
          },
          "metadata": {
            "tags": []
          },
          "execution_count": 119
        }
      ]
    },
    {
      "cell_type": "markdown",
      "metadata": {
        "id": "QgInA1VhLXnH"
      },
      "source": [
        "### 4.3 - PCA\n",
        "\n",
        "Disminuiremos el número de columnas, con fin de buscar optimizar los tiempos de ejecución de nuestros modelos."
      ]
    },
    {
      "cell_type": "code",
      "metadata": {
        "id": "_U6Dbuf0LXnH"
      },
      "source": [
        "from sklearn.decomposition import PCA\n",
        "pca = PCA().fit(emails_body_df)\n",
        "plt.plot(np.cumsum(pca.explained_variance_ratio_))\n",
        "plt.xlabel('Componentes')\n",
        "plt.ylabel('Variancia Acumulada Explicada');"
      ],
      "execution_count": null,
      "outputs": []
    },
    {
      "cell_type": "code",
      "metadata": {
        "id": "m3gyAjesLXnI"
      },
      "source": [
        "pca = PCA(n_components=2000)\n",
        "principalComponents = pca.fit_transform(emails_body_df)\n",
        "emails_body_df_w_pca = pd.DataFrame(data = principalComponents)"
      ],
      "execution_count": null,
      "outputs": []
    },
    {
      "cell_type": "code",
      "metadata": {
        "id": "7eVSnEtqvz4t"
      },
      "source": [
        "emails_body_df_w_pca['label'] = labels"
      ],
      "execution_count": null,
      "outputs": []
    },
    {
      "cell_type": "code",
      "metadata": {
        "id": "JJS4zEFwvz4t"
      },
      "source": [
        "emails_body_df_w_pca['label'].value_counts();"
      ],
      "execution_count": null,
      "outputs": []
    },
    {
      "cell_type": "markdown",
      "metadata": {
        "id": "_Tsvn7cNLXnI"
      },
      "source": [
        "### 4.4 Dataset Preparation\n",
        "\n",
        "Partimos el dataset en data de entrenamiento y de prueba para poder empezar a enviarlos a los modelos escogidos dentro del alcance de este trabajo."
      ]
    },
    {
      "cell_type": "code",
      "metadata": {
        "id": "r0KQdD6jLXnI"
      },
      "source": [
        "x = emails_body_df_w_pca.iloc[:,:-1]\n",
        "y = emails_body_df_w_pca.iloc[:,-1:]"
      ],
      "execution_count": null,
      "outputs": []
    },
    {
      "cell_type": "code",
      "metadata": {
        "id": "EnmP-nfSLXnI"
      },
      "source": [
        "from sklearn.model_selection import train_test_split\n",
        "x_train, x_test, y_train, y_test = train_test_split(x, y, test_size = 0.8, random_state=0, shuffle = True)\n",
        "x_train.head()"
      ],
      "execution_count": null,
      "outputs": []
    },
    {
      "cell_type": "markdown",
      "metadata": {
        "id": "MgULwRd5vz4t"
      },
      "source": [
        "## 5. - Elección de Modelos a Utilizar"
      ]
    },
    {
      "cell_type": "markdown",
      "metadata": {
        "id": "7QZMM4tGvz4t"
      },
      "source": [
        "### 5.1 - K-Nearest Neighbors Model\n",
        "Se seleccionó el algoritmo KNN porque es uno de los algoritmos de clasificación más simples y es uno de los algoritmos de aprendizaje más utilizados."
      ]
    },
    {
      "cell_type": "code",
      "metadata": {
        "id": "FlHQA_-mvz4t"
      },
      "source": [
        "from sklearn.neighbors import KNeighborsClassifier\n",
        "neighbors = 0\n",
        "knn = KNeighborsClassifier(n_neighbors=neighbors)"
      ],
      "execution_count": null,
      "outputs": []
    },
    {
      "cell_type": "code",
      "metadata": {
        "id": "IVYModBALXnI"
      },
      "source": [
        "acc = []\n",
        "\n",
        "for i in range(1,40):\n",
        "    neigh = KNeighborsClassifier(n_neighbors = i).fit(X_train,Y_train)\n",
        "    yhat = neigh.predict(X_test)\n",
        "    acc.append(accuracy_score(Y_test, yhat))\n",
        "    \n",
        "plt.figure(figsize=(10,6))\n",
        "plt.plot(range(1,40),acc,color = 'blue',linestyle='dashed', \n",
        "         marker='o',markerfacecolor='red', markersize=10);\n",
        "plt.title('accuracy vs. K Value')\n",
        "plt.xlabel('K')\n",
        "plt.ylabel('Accuracy')\n",
        "print(\"Maximum accuracy:\",max(acc),\"at K =\",acc.index(max(acc))+1)"
      ],
      "execution_count": null,
      "outputs": []
    },
    {
      "cell_type": "code",
      "metadata": {
        "id": "NSyDKX0vLXnI"
      },
      "source": [
        "knn_mod = KNeighborsClassifier(n_neighbors = 4).fit(X_train,Y_train)\n",
        "y2_model = knn_mod.predict(X_test)\n",
        "accuracy_score(Y_test, y2_model)"
      ],
      "execution_count": null,
      "outputs": []
    },
    {
      "cell_type": "markdown",
      "metadata": {
        "id": "LCNSTjPpvz4t"
      },
      "source": [
        "### 5.2 - Decision Tree Model\n",
        "Se escogió el modelo Decision Tree para contar con un modelo simple, la finalidad principal de usar este modelo es ver qué impacto tiene con nuestro dataset y poder compararlo con los demás modelos a usar"
      ]
    },
    {
      "cell_type": "markdown",
      "metadata": {
        "id": "KO7Sk2ILvz4t"
      },
      "source": [
        "### 5.3 - XGBoost Model\n",
        "Siguiendo la linea de la investigación realizada, encontramos en el modelo de XGboost una opción más sofisticada y mas controlable de Logistic Regression. Por ello la proponemos como una opción mejorada del modelo anterior que nos permita jugar más con los hiper-parámetros."
      ]
    },
    {
      "cell_type": "code",
      "metadata": {
        "id": "jCtvLkt_vz4u"
      },
      "source": [
        "dataTest = [df.iloc[600,0].lower(),df.iloc[601,0].lower()]\n",
        "testMSG = vec_datos.transform(dataTest)"
      ],
      "execution_count": null,
      "outputs": []
    },
    {
      "cell_type": "code",
      "metadata": {
        "id": "rMep87qhvz4u"
      },
      "source": [
        "print(testMSG.toarray()) "
      ],
      "execution_count": null,
      "outputs": []
    },
    {
      "cell_type": "code",
      "metadata": {
        "id": "CjLxs-levz4v"
      },
      "source": [
        "readyMSG= pd.DataFrame(testMSG.toarray(), columns=tf_idf_dataframe_smooth.iloc[:,:-1].columns)"
      ],
      "execution_count": null,
      "outputs": []
    },
    {
      "cell_type": "code",
      "metadata": {
        "id": "UsAEKJWmvz4v"
      },
      "source": [
        "readyMSG.iloc[1,:].unique()"
      ],
      "execution_count": null,
      "outputs": []
    },
    {
      "cell_type": "code",
      "metadata": {
        "id": "f6LfRFfAvz4v"
      },
      "source": [
        "pca2 = PCA(n_components=2)\n",
        "\n",
        "principalComponents2 = pca2.fit_transform(readyMSG)\n",
        "principalDf2 = pd.DataFrame(data = principalComponents2\n",
        "             , columns = ['principal component 1', 'principal component 2'])"
      ],
      "execution_count": null,
      "outputs": []
    },
    {
      "cell_type": "code",
      "metadata": {
        "id": "QgtBCLCvvz4v"
      },
      "source": [
        "print(principalDf2)"
      ],
      "execution_count": null,
      "outputs": []
    },
    {
      "cell_type": "code",
      "metadata": {
        "id": "umrZp6q9vz4v"
      },
      "source": [
        "principalDf2.iloc[1,:]"
      ],
      "execution_count": null,
      "outputs": []
    }
  ]
}